{
 "cells": [
  {
   "cell_type": "code",
   "execution_count": null,
   "metadata": {},
   "outputs": [],
   "source": []
  },
  {
   "cell_type": "markdown",
   "metadata": {},
   "source": [
    "# Artificial Neural Network\n"
   ]
  },
  {
   "cell_type": "markdown",
   "metadata": {},
   "source": [
    "## Importing Libraries\n"
   ]
  },
  {
   "cell_type": "code",
   "execution_count": 22,
   "metadata": {},
   "outputs": [],
   "source": [
    "import numpy as np\n",
    "import pandas as pd\n",
    "import tensorflow as tf"
   ]
  },
  {
   "cell_type": "code",
   "execution_count": 23,
   "metadata": {},
   "outputs": [
    {
     "data": {
      "text/plain": [
       "'2.15.0'"
      ]
     },
     "execution_count": 23,
     "metadata": {},
     "output_type": "execute_result"
    }
   ],
   "source": [
    "tf.__version__"
   ]
  },
  {
   "cell_type": "markdown",
   "metadata": {},
   "source": [
    "## Part 1: Data Preprocessing\n"
   ]
  },
  {
   "cell_type": "markdown",
   "metadata": {},
   "source": [
    "### Importing the dataset\n"
   ]
  },
  {
   "cell_type": "code",
   "execution_count": 24,
   "metadata": {},
   "outputs": [],
   "source": [
    "dataset = pd.read_csv(\"../datasets/12_bank_customer_churn_prediction.csv\")\n",
    "X = dataset.iloc[:, 1:-1].values\n",
    "y = dataset.iloc[:, -1].values"
   ]
  },
  {
   "cell_type": "code",
   "execution_count": 25,
   "metadata": {},
   "outputs": [
    {
     "name": "stdout",
     "output_type": "stream",
     "text": [
      "[[619 'France' 'Female' ... 1 1 101348.88]\n",
      " [608 'Spain' 'Female' ... 0 1 112542.58]\n",
      " [502 'France' 'Female' ... 1 0 113931.57]\n",
      " ...\n",
      " [709 'France' 'Female' ... 0 1 42085.58]\n",
      " [772 'Germany' 'Male' ... 1 0 92888.52]\n",
      " [792 'France' 'Female' ... 1 0 38190.78]]\n"
     ]
    }
   ],
   "source": [
    "print(X)"
   ]
  },
  {
   "cell_type": "code",
   "execution_count": 26,
   "metadata": {},
   "outputs": [
    {
     "name": "stdout",
     "output_type": "stream",
     "text": [
      "[1 0 1 ... 1 1 0]\n"
     ]
    }
   ],
   "source": [
    "print(y)"
   ]
  },
  {
   "cell_type": "markdown",
   "metadata": {},
   "source": [
    "### Encoding categorical data\n"
   ]
  },
  {
   "cell_type": "markdown",
   "metadata": {},
   "source": [
    "#### Label Encoding the \"Gender\" column\n"
   ]
  },
  {
   "cell_type": "code",
   "execution_count": 27,
   "metadata": {},
   "outputs": [],
   "source": [
    "from sklearn.preprocessing import LabelEncoder\n",
    "\n",
    "le = LabelEncoder()\n",
    "X[:, 2] = le.fit_transform(X[:, 2])"
   ]
  },
  {
   "cell_type": "code",
   "execution_count": 28,
   "metadata": {},
   "outputs": [
    {
     "name": "stdout",
     "output_type": "stream",
     "text": [
      "[[619 'France' 0 ... 1 1 101348.88]\n",
      " [608 'Spain' 0 ... 0 1 112542.58]\n",
      " [502 'France' 0 ... 1 0 113931.57]\n",
      " ...\n",
      " [709 'France' 0 ... 0 1 42085.58]\n",
      " [772 'Germany' 1 ... 1 0 92888.52]\n",
      " [792 'France' 0 ... 1 0 38190.78]]\n"
     ]
    }
   ],
   "source": [
    "print(X)"
   ]
  },
  {
   "cell_type": "markdown",
   "metadata": {},
   "source": [
    "#### One Hot Encoding the \"Geography\" column\n"
   ]
  },
  {
   "cell_type": "code",
   "execution_count": 29,
   "metadata": {},
   "outputs": [],
   "source": [
    "from sklearn.compose import ColumnTransformer\n",
    "from sklearn.preprocessing import OneHotEncoder\n",
    "\n",
    "ct = ColumnTransformer(\n",
    "    transformers=[(\"encoder\", OneHotEncoder(), [1])], remainder=\"passthrough\"\n",
    ")\n",
    "X = np.array(ct.fit_transform(X))"
   ]
  },
  {
   "cell_type": "code",
   "execution_count": 50,
   "metadata": {},
   "outputs": [
    {
     "name": "stdout",
     "output_type": "stream",
     "text": [
      "[1.0 0.0 0.0 822 1 50 7 0.0 2 1 1 10062.8]\n"
     ]
    }
   ],
   "source": [
    "print(X[6])"
   ]
  },
  {
   "cell_type": "markdown",
   "metadata": {},
   "source": [
    "### Splitting the dataset into Training and Test Sets\n"
   ]
  },
  {
   "cell_type": "code",
   "execution_count": 41,
   "metadata": {},
   "outputs": [],
   "source": [
    "from sklearn.model_selection import train_test_split\n",
    "\n",
    "X_train, X_test, y_train, y_test = train_test_split(X, y, test_size=0.2, random_state=0)"
   ]
  },
  {
   "cell_type": "markdown",
   "metadata": {},
   "source": [
    "### Feature Scaling\n"
   ]
  },
  {
   "cell_type": "code",
   "execution_count": 42,
   "metadata": {},
   "outputs": [],
   "source": [
    "from sklearn.preprocessing import StandardScaler\n",
    "\n",
    "sc = StandardScaler()\n",
    "X_train = sc.fit_transform(X_train)\n",
    "X_test = sc.fit_transform(X_test)"
   ]
  },
  {
   "cell_type": "markdown",
   "metadata": {},
   "source": [
    "## Part 2: Building the ANN\n"
   ]
  },
  {
   "cell_type": "markdown",
   "metadata": {},
   "source": [
    "### Initializing the ANN\n"
   ]
  },
  {
   "cell_type": "code",
   "execution_count": 43,
   "metadata": {},
   "outputs": [],
   "source": [
    "ann = tf.keras.models.Sequential()  # initializes our ann as a sequence of layers"
   ]
  },
  {
   "cell_type": "markdown",
   "metadata": {},
   "source": [
    "### Adding the input layer and the first hidden layer\n"
   ]
  },
  {
   "cell_type": "code",
   "execution_count": 44,
   "metadata": {},
   "outputs": [],
   "source": [
    "ann.add(tf.keras.layers.Dense(units=6, activation=\"relu\"))\n",
    "# units is number of neurons on the first hidden layer\n",
    "# relu refers to the rectifier activation function"
   ]
  },
  {
   "cell_type": "markdown",
   "metadata": {},
   "source": [
    "### Adding the second hidden layer\n"
   ]
  },
  {
   "cell_type": "code",
   "execution_count": 45,
   "metadata": {},
   "outputs": [],
   "source": [
    "ann.add(tf.keras.layers.Dense(units=6, activation=\"relu\"))"
   ]
  },
  {
   "cell_type": "markdown",
   "metadata": {},
   "source": [
    "### Adding the output layer\n"
   ]
  },
  {
   "cell_type": "code",
   "execution_count": 46,
   "metadata": {},
   "outputs": [],
   "source": [
    "ann.add(tf.keras.layers.Dense(units=1, activation=\"sigmoid\"))"
   ]
  },
  {
   "cell_type": "markdown",
   "metadata": {},
   "source": [
    "## Part 3: Training the ANN\n"
   ]
  },
  {
   "cell_type": "markdown",
   "metadata": {},
   "source": [
    "### Compiling the ANN\n"
   ]
  },
  {
   "cell_type": "code",
   "execution_count": 47,
   "metadata": {},
   "outputs": [],
   "source": [
    "ann.compile(\n",
    "    optimizer=\"adam\", loss=\"binary_crossentropy\", metrics=[\"accuracy\"]\n",
    ")  # for non-binary the loss is categorical_crossentropy"
   ]
  },
  {
   "cell_type": "markdown",
   "metadata": {},
   "source": [
    "### Training the ANN on the Training set\n"
   ]
  },
  {
   "cell_type": "code",
   "execution_count": 48,
   "metadata": {},
   "outputs": [
    {
     "name": "stdout",
     "output_type": "stream",
     "text": [
      "Epoch 1/100\n",
      "250/250 [==============================] - 1s 845us/step - loss: 0.5734 - accuracy: 0.7423\n",
      "Epoch 2/100\n",
      "250/250 [==============================] - 0s 836us/step - loss: 0.4719 - accuracy: 0.7960\n",
      "Epoch 3/100\n",
      "250/250 [==============================] - 0s 867us/step - loss: 0.4455 - accuracy: 0.8016\n",
      "Epoch 4/100\n",
      "250/250 [==============================] - 0s 924us/step - loss: 0.4308 - accuracy: 0.8110\n",
      "Epoch 5/100\n",
      "250/250 [==============================] - 0s 931us/step - loss: 0.4201 - accuracy: 0.8170\n",
      "Epoch 6/100\n",
      "250/250 [==============================] - 0s 927us/step - loss: 0.4116 - accuracy: 0.8174\n",
      "Epoch 7/100\n",
      "250/250 [==============================] - 0s 861us/step - loss: 0.4044 - accuracy: 0.8206\n",
      "Epoch 8/100\n",
      "250/250 [==============================] - 0s 907us/step - loss: 0.3984 - accuracy: 0.8221\n",
      "Epoch 9/100\n",
      "250/250 [==============================] - 0s 937us/step - loss: 0.3935 - accuracy: 0.8242\n",
      "Epoch 10/100\n",
      "250/250 [==============================] - 0s 911us/step - loss: 0.3896 - accuracy: 0.8265\n",
      "Epoch 11/100\n",
      "250/250 [==============================] - 0s 884us/step - loss: 0.3853 - accuracy: 0.8364\n",
      "Epoch 12/100\n",
      "250/250 [==============================] - 0s 887us/step - loss: 0.3821 - accuracy: 0.8379\n",
      "Epoch 13/100\n",
      "250/250 [==============================] - 0s 890us/step - loss: 0.3785 - accuracy: 0.8389\n",
      "Epoch 14/100\n",
      "250/250 [==============================] - 0s 987us/step - loss: 0.3760 - accuracy: 0.8396\n",
      "Epoch 15/100\n",
      "250/250 [==============================] - 0s 1ms/step - loss: 0.3730 - accuracy: 0.8411\n",
      "Epoch 16/100\n",
      "250/250 [==============================] - 0s 1ms/step - loss: 0.3702 - accuracy: 0.8428\n",
      "Epoch 17/100\n",
      "250/250 [==============================] - 0s 995us/step - loss: 0.3679 - accuracy: 0.8428\n",
      "Epoch 18/100\n",
      "250/250 [==============================] - 0s 971us/step - loss: 0.3658 - accuracy: 0.8455\n",
      "Epoch 19/100\n",
      "250/250 [==============================] - 0s 908us/step - loss: 0.3633 - accuracy: 0.8464\n",
      "Epoch 20/100\n",
      "250/250 [==============================] - 0s 953us/step - loss: 0.3611 - accuracy: 0.8465\n",
      "Epoch 21/100\n",
      "250/250 [==============================] - 0s 1ms/step - loss: 0.3594 - accuracy: 0.8476\n",
      "Epoch 22/100\n",
      "250/250 [==============================] - 0s 1ms/step - loss: 0.3585 - accuracy: 0.8497\n",
      "Epoch 23/100\n",
      "250/250 [==============================] - 0s 1ms/step - loss: 0.3569 - accuracy: 0.8509\n",
      "Epoch 24/100\n",
      "250/250 [==============================] - 0s 1ms/step - loss: 0.3558 - accuracy: 0.8521\n",
      "Epoch 25/100\n",
      "250/250 [==============================] - 0s 1ms/step - loss: 0.3549 - accuracy: 0.8530\n",
      "Epoch 26/100\n",
      "250/250 [==============================] - 0s 967us/step - loss: 0.3540 - accuracy: 0.8547\n",
      "Epoch 27/100\n",
      "250/250 [==============================] - 0s 1ms/step - loss: 0.3529 - accuracy: 0.8518\n",
      "Epoch 28/100\n",
      "250/250 [==============================] - 0s 1ms/step - loss: 0.3520 - accuracy: 0.8546\n",
      "Epoch 29/100\n",
      "250/250 [==============================] - 0s 981us/step - loss: 0.3511 - accuracy: 0.8561\n",
      "Epoch 30/100\n",
      "250/250 [==============================] - 0s 1ms/step - loss: 0.3509 - accuracy: 0.8554\n",
      "Epoch 31/100\n",
      "250/250 [==============================] - 0s 991us/step - loss: 0.3503 - accuracy: 0.8534\n",
      "Epoch 32/100\n",
      "250/250 [==============================] - 0s 964us/step - loss: 0.3499 - accuracy: 0.8569\n",
      "Epoch 33/100\n",
      "250/250 [==============================] - 0s 1ms/step - loss: 0.3494 - accuracy: 0.8546\n",
      "Epoch 34/100\n",
      "250/250 [==============================] - 0s 1ms/step - loss: 0.3488 - accuracy: 0.8566\n",
      "Epoch 35/100\n",
      "250/250 [==============================] - 0s 1ms/step - loss: 0.3485 - accuracy: 0.8574\n",
      "Epoch 36/100\n",
      "250/250 [==============================] - 0s 962us/step - loss: 0.3476 - accuracy: 0.8577\n",
      "Epoch 37/100\n",
      "250/250 [==============================] - 0s 977us/step - loss: 0.3482 - accuracy: 0.8589\n",
      "Epoch 38/100\n",
      "250/250 [==============================] - 0s 938us/step - loss: 0.3471 - accuracy: 0.8590\n",
      "Epoch 39/100\n",
      "250/250 [==============================] - 0s 966us/step - loss: 0.3468 - accuracy: 0.8572\n",
      "Epoch 40/100\n",
      "250/250 [==============================] - 0s 1ms/step - loss: 0.3462 - accuracy: 0.8579\n",
      "Epoch 41/100\n",
      "250/250 [==============================] - 0s 1ms/step - loss: 0.3461 - accuracy: 0.8597\n",
      "Epoch 42/100\n",
      "250/250 [==============================] - 0s 1ms/step - loss: 0.3456 - accuracy: 0.8593\n",
      "Epoch 43/100\n",
      "250/250 [==============================] - 0s 1ms/step - loss: 0.3455 - accuracy: 0.8587\n",
      "Epoch 44/100\n",
      "250/250 [==============================] - 0s 1ms/step - loss: 0.3446 - accuracy: 0.8591\n",
      "Epoch 45/100\n",
      "250/250 [==============================] - 0s 972us/step - loss: 0.3453 - accuracy: 0.8589\n",
      "Epoch 46/100\n",
      "250/250 [==============================] - 0s 1ms/step - loss: 0.3444 - accuracy: 0.8584\n",
      "Epoch 47/100\n",
      "250/250 [==============================] - 0s 1ms/step - loss: 0.3447 - accuracy: 0.8577\n",
      "Epoch 48/100\n",
      "250/250 [==============================] - 0s 923us/step - loss: 0.3441 - accuracy: 0.8593\n",
      "Epoch 49/100\n",
      "250/250 [==============================] - 0s 900us/step - loss: 0.3444 - accuracy: 0.8597\n",
      "Epoch 50/100\n",
      "250/250 [==============================] - 0s 901us/step - loss: 0.3438 - accuracy: 0.8600\n",
      "Epoch 51/100\n",
      "250/250 [==============================] - 0s 985us/step - loss: 0.3437 - accuracy: 0.8593\n",
      "Epoch 52/100\n",
      "250/250 [==============================] - 0s 913us/step - loss: 0.3436 - accuracy: 0.8601\n",
      "Epoch 53/100\n",
      "250/250 [==============================] - 0s 864us/step - loss: 0.3435 - accuracy: 0.8593\n",
      "Epoch 54/100\n",
      "250/250 [==============================] - 0s 869us/step - loss: 0.3432 - accuracy: 0.8595\n",
      "Epoch 55/100\n",
      "250/250 [==============================] - 0s 952us/step - loss: 0.3430 - accuracy: 0.8593\n",
      "Epoch 56/100\n",
      "250/250 [==============================] - 0s 939us/step - loss: 0.3433 - accuracy: 0.8612\n",
      "Epoch 57/100\n",
      "250/250 [==============================] - 0s 880us/step - loss: 0.3428 - accuracy: 0.8604\n",
      "Epoch 58/100\n",
      "250/250 [==============================] - 0s 919us/step - loss: 0.3427 - accuracy: 0.8611\n",
      "Epoch 59/100\n",
      "250/250 [==============================] - 0s 877us/step - loss: 0.3427 - accuracy: 0.8606\n",
      "Epoch 60/100\n",
      "250/250 [==============================] - 0s 882us/step - loss: 0.3428 - accuracy: 0.8614\n",
      "Epoch 61/100\n",
      "250/250 [==============================] - 0s 845us/step - loss: 0.3428 - accuracy: 0.8606\n",
      "Epoch 62/100\n",
      "250/250 [==============================] - 0s 982us/step - loss: 0.3428 - accuracy: 0.8594\n",
      "Epoch 63/100\n",
      "250/250 [==============================] - 0s 848us/step - loss: 0.3425 - accuracy: 0.8609\n",
      "Epoch 64/100\n",
      "250/250 [==============================] - 0s 868us/step - loss: 0.3423 - accuracy: 0.8601\n",
      "Epoch 65/100\n",
      "250/250 [==============================] - 0s 1ms/step - loss: 0.3423 - accuracy: 0.8602\n",
      "Epoch 66/100\n",
      "250/250 [==============================] - 0s 951us/step - loss: 0.3419 - accuracy: 0.8600\n",
      "Epoch 67/100\n",
      "250/250 [==============================] - 0s 889us/step - loss: 0.3422 - accuracy: 0.8626\n",
      "Epoch 68/100\n",
      "250/250 [==============================] - 0s 853us/step - loss: 0.3422 - accuracy: 0.8590\n",
      "Epoch 69/100\n",
      "250/250 [==============================] - 0s 947us/step - loss: 0.3420 - accuracy: 0.8597\n",
      "Epoch 70/100\n",
      "250/250 [==============================] - 0s 1ms/step - loss: 0.3421 - accuracy: 0.8610\n",
      "Epoch 71/100\n",
      "250/250 [==============================] - 0s 977us/step - loss: 0.3419 - accuracy: 0.8609\n",
      "Epoch 72/100\n",
      "250/250 [==============================] - 0s 925us/step - loss: 0.3422 - accuracy: 0.8587\n",
      "Epoch 73/100\n",
      "250/250 [==============================] - 0s 1ms/step - loss: 0.3414 - accuracy: 0.8590\n",
      "Epoch 74/100\n",
      "250/250 [==============================] - 0s 975us/step - loss: 0.3416 - accuracy: 0.8604\n",
      "Epoch 75/100\n",
      "250/250 [==============================] - 0s 920us/step - loss: 0.3415 - accuracy: 0.8599\n",
      "Epoch 76/100\n",
      "250/250 [==============================] - 0s 902us/step - loss: 0.3415 - accuracy: 0.8615\n",
      "Epoch 77/100\n",
      "250/250 [==============================] - 0s 869us/step - loss: 0.3418 - accuracy: 0.8612\n",
      "Epoch 78/100\n",
      "250/250 [==============================] - 0s 910us/step - loss: 0.3416 - accuracy: 0.8606\n",
      "Epoch 79/100\n",
      "250/250 [==============================] - 0s 891us/step - loss: 0.3412 - accuracy: 0.8611\n",
      "Epoch 80/100\n",
      "250/250 [==============================] - 0s 851us/step - loss: 0.3412 - accuracy: 0.8599\n",
      "Epoch 81/100\n",
      "250/250 [==============================] - 0s 1ms/step - loss: 0.3410 - accuracy: 0.8602\n",
      "Epoch 82/100\n",
      "250/250 [==============================] - 0s 966us/step - loss: 0.3412 - accuracy: 0.8601\n",
      "Epoch 83/100\n",
      "250/250 [==============================] - 0s 943us/step - loss: 0.3409 - accuracy: 0.8609\n",
      "Epoch 84/100\n",
      "250/250 [==============================] - 0s 913us/step - loss: 0.3404 - accuracy: 0.8616\n",
      "Epoch 85/100\n",
      "250/250 [==============================] - 0s 914us/step - loss: 0.3406 - accuracy: 0.8609\n",
      "Epoch 86/100\n",
      "250/250 [==============================] - 0s 973us/step - loss: 0.3400 - accuracy: 0.8619\n",
      "Epoch 87/100\n",
      "250/250 [==============================] - 0s 906us/step - loss: 0.3400 - accuracy: 0.8614\n",
      "Epoch 88/100\n",
      "250/250 [==============================] - 0s 863us/step - loss: 0.3402 - accuracy: 0.8625\n",
      "Epoch 89/100\n",
      "250/250 [==============================] - 0s 856us/step - loss: 0.3402 - accuracy: 0.8605\n",
      "Epoch 90/100\n",
      "250/250 [==============================] - 0s 866us/step - loss: 0.3396 - accuracy: 0.8618\n",
      "Epoch 91/100\n",
      "250/250 [==============================] - 0s 874us/step - loss: 0.3393 - accuracy: 0.8612\n",
      "Epoch 92/100\n",
      "250/250 [==============================] - 0s 969us/step - loss: 0.3392 - accuracy: 0.8618\n",
      "Epoch 93/100\n",
      "250/250 [==============================] - 0s 915us/step - loss: 0.3387 - accuracy: 0.8620\n",
      "Epoch 94/100\n",
      "250/250 [==============================] - 0s 931us/step - loss: 0.3393 - accuracy: 0.8611\n",
      "Epoch 95/100\n",
      "250/250 [==============================] - 0s 922us/step - loss: 0.3389 - accuracy: 0.8618\n",
      "Epoch 96/100\n",
      "250/250 [==============================] - 0s 875us/step - loss: 0.3386 - accuracy: 0.8615\n",
      "Epoch 97/100\n",
      "250/250 [==============================] - 0s 864us/step - loss: 0.3383 - accuracy: 0.8615\n",
      "Epoch 98/100\n",
      "250/250 [==============================] - 0s 880us/step - loss: 0.3385 - accuracy: 0.8605\n",
      "Epoch 99/100\n",
      "250/250 [==============================] - 0s 971us/step - loss: 0.3380 - accuracy: 0.8602\n",
      "Epoch 100/100\n",
      "250/250 [==============================] - 0s 885us/step - loss: 0.3379 - accuracy: 0.8618\n"
     ]
    },
    {
     "data": {
      "text/plain": [
       "<keras.src.callbacks.History at 0x1f22c5c1e70>"
      ]
     },
     "execution_count": 48,
     "metadata": {},
     "output_type": "execute_result"
    }
   ],
   "source": [
    "ann.fit(X_train, y_train, batch_size=32, epochs=100)"
   ]
  },
  {
   "cell_type": "markdown",
   "metadata": {},
   "source": [
    "## Part 4: Making the prediciton and evaluating the model\n"
   ]
  },
  {
   "cell_type": "markdown",
   "metadata": {},
   "source": [
    "### Predicting the result of a single observation\n"
   ]
  },
  {
   "cell_type": "markdown",
   "metadata": {},
   "source": [
    "**Homework**\n",
    "Use or ANN model to predict if the customer with the following informations will leave the bank:\n",
    "Geography: France\n",
    "Credit Score: 600\n",
    "Gender: Male\n",
    "Age: 40 years old\n",
    "Tenure: 3 years\n",
    "Balance: $60000\n",
    "Number of Products: 2\n",
    "Does this custome have a credit card? Yes\n",
    "Is this customer an Active Member: Yes\n",
    "Estimated Salary: $50000\n",
    "So should we say goodbye to the customer?\n",
    "\n",
    "**Solution**\n"
   ]
  },
  {
   "cell_type": "code",
   "execution_count": 57,
   "metadata": {},
   "outputs": [
    {
     "name": "stdout",
     "output_type": "stream",
     "text": [
      "1/1 [==============================] - 0s 17ms/step\n",
      "[[False]]\n"
     ]
    }
   ],
   "source": [
    "print(\n",
    "    ann.predict(sc.transform([[1, 0, 0, 600, 1, 40, 3, 60000, 2, 1, 1, 50000]])) > 0.5\n",
    ")"
   ]
  },
  {
   "cell_type": "markdown",
   "metadata": {},
   "source": [
    "Therefore our ANN model predicts that this customer stays in the bank!\n",
    "\n",
    "**Important note 1:** Notice that the values of the features were all input in a double pair of square brackets. That's because the 'predict' method always expects a 2D array as the format of the inputs. And puttingour values into a double square brackets makes the input exactly a 2D array.\n",
    "\n",
    "**Important note 2:** Notice also that 'France' country was not input as a string in the last column but as '1,0,0' in the first three columns. That's because of course the predict method expects the one-hot encoded values of the state, and as we see in the first row of the matrix of features X, France was encoded as '1,0,0.' And be careful to include these values in the first three columns beacuse the dummy variables are always in the first columns.\n"
   ]
  },
  {
   "cell_type": "markdown",
   "metadata": {},
   "source": [
    "### Prediciting the test results\n"
   ]
  },
  {
   "cell_type": "code",
   "execution_count": 58,
   "metadata": {},
   "outputs": [
    {
     "name": "stdout",
     "output_type": "stream",
     "text": [
      "63/63 [==============================] - 0s 690us/step\n",
      "[[0 0]\n",
      " [0 1]\n",
      " [0 0]\n",
      " ...\n",
      " [0 0]\n",
      " [0 0]\n",
      " [0 0]]\n"
     ]
    }
   ],
   "source": [
    "y_pred = ann.predict(X_test)\n",
    "y_pred = y_pred > 0.5\n",
    "\n",
    "print(\n",
    "    np.concatenate((y_pred.reshape(len(y_pred), 1), y_test.reshape(len(y_test), 1)), 1)\n",
    ")"
   ]
  },
  {
   "cell_type": "markdown",
   "metadata": {},
   "source": [
    "### Making the Confusion Matrix\n"
   ]
  },
  {
   "cell_type": "code",
   "execution_count": 59,
   "metadata": {},
   "outputs": [
    {
     "name": "stdout",
     "output_type": "stream",
     "text": [
      "[[1538   57]\n",
      " [ 218  187]]\n"
     ]
    },
    {
     "data": {
      "text/plain": [
       "0.8625"
      ]
     },
     "execution_count": 59,
     "metadata": {},
     "output_type": "execute_result"
    }
   ],
   "source": [
    "from sklearn.metrics import confusion_matrix, accuracy_score\n",
    "\n",
    "cm = confusion_matrix(y_test, y_pred)\n",
    "print(cm)\n",
    "accuracy_score(y_test, y_pred)"
   ]
  }
 ],
 "metadata": {
  "kernelspec": {
   "display_name": "ml",
   "language": "python",
   "name": "python3"
  },
  "language_info": {
   "codemirror_mode": {
    "name": "ipython",
    "version": 3
   },
   "file_extension": ".py",
   "mimetype": "text/x-python",
   "name": "python",
   "nbconvert_exporter": "python",
   "pygments_lexer": "ipython3",
   "version": "3.10.5"
  }
 },
 "nbformat": 4,
 "nbformat_minor": 2
}
